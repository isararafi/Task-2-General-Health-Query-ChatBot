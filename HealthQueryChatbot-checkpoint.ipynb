{
 "cells": [
  {
   "cell_type": "code",
   "execution_count": 27,
   "id": "60bcf711-4f27-4a27-be6a-d22c5e8bcd05",
   "metadata": {},
   "outputs": [
    {
     "name": "stdout",
     "output_type": "stream",
     "text": [
      "Python 3.13.3\n"
     ]
    }
   ],
   "source": [
    "!python --version\n"
   ]
  },
  {
   "cell_type": "code",
   "execution_count": 28,
   "id": "2d6dbc5d-ffab-42b4-8127-272fbdba2b90",
   "metadata": {},
   "outputs": [],
   "source": [
    "import requests\n",
    "import json\n"
   ]
  },
  {
   "cell_type": "code",
   "execution_count": 29,
   "id": "953cc854-83dd-4d63-81c1-3748e5a760e5",
   "metadata": {},
   "outputs": [],
   "source": [
    "COHERE_API_KEY = \"xW7JWGSmApqyRyaj6YknQ5MDSH0EUaKLGuiB7vfB\"  \n"
   ]
  },
  {
   "cell_type": "code",
   "execution_count": null,
   "id": "febd979f-6a7d-4233-8aa6-a573524c2015",
   "metadata": {},
   "outputs": [
    {
     "name": "stdin",
     "output_type": "stream",
     "text": [
      "Ask a health question (or type 'quit' to exit):  is 2 tablet safe for 15 year old?\n"
     ]
    },
    {
     "name": "stdout",
     "output_type": "stream",
     "text": [
      "Bot: I’m not qualified to give specific medical treatment or dosage advice. Please consult a licensed doctor or pharmacist for guidance. It’s important to ensure that any medication or supplement is safe and appropriate for a 15-year-old, as dosages and suitability can vary based on age, weight, and health conditions. Always follow the advice of a healthcare professional.\n"
     ]
    },
    {
     "name": "stdin",
     "output_type": "stream",
     "text": [
      "Ask a health question (or type 'quit' to exit):  is eating paracetamol ok?\n"
     ]
    },
    {
     "name": "stdout",
     "output_type": "stream",
     "text": [
      "Bot: Eating paracetamol is not safe and can be extremely dangerous. Paracetamol is a medication meant to be taken orally in the correct dosage, as directed by a healthcare professional or as indicated on the packaging. Swallowing it with water ensures it is absorbed properly into your system.\n",
      "\n",
      "If you or someone you know has ingested paracetamol in any way other than orally (such as eating it directly), it’s important to seek medical attention immediately. Misuse or improper ingestion of paracetamol can lead to serious health risks, including liver damage or other complications.\n",
      "\n",
      "Always follow the recommended guidelines for medication use and consult a healthcare provider if you have any concerns.\n"
     ]
    },
    {
     "name": "stdin",
     "output_type": "stream",
     "text": [
      "Ask a health question (or type 'quit' to exit):  what are common causes of heart attack?\n"
     ]
    },
    {
     "name": "stdout",
     "output_type": "stream",
     "text": [
      "Bot: Heart attacks, also known as myocardial infarctions, occur when blood flow to the heart is blocked, typically due to a buildup of fat, cholesterol, and other substances in the coronary arteries. Here are some common causes and risk factors:\n",
      "\n",
      "1. **Coronary Artery Disease (CAD)**: The most common cause of heart attacks. Plaque buildup in the arteries (atherosclerosis) narrows or blocks blood flow to the heart.\n",
      "\n",
      "2. **High Blood Pressure (Hypertension)**: Over time, high blood pressure can damage arteries and contribute to atherosclerosis.\n",
      "\n",
      "3. **High Cholesterol**: Elevated levels of LDL (\"bad\") cholesterol can lead to plaque buildup in the arteries.\n",
      "\n",
      "4. **Smoking**: Smoking damages blood vessels, increases blood pressure, and reduces oxygen supply to the heart.\n",
      "\n",
      "5. **Diabetes**: High blood sugar levels can damage blood vessels and increase the risk of atherosclerosis.\n",
      "\n",
      "6. **Obesity**: Excess weight increases the risk of high blood pressure, high cholesterol, and diabetes, all of which contribute to heart attack risk.\n",
      "\n",
      "7. **Physical Inactivity**: Lack of exercise weakens the heart and contributes to other risk factors like obesity and high blood pressure.\n",
      "\n",
      "8. **Unhealthy Diet**: Diets high in saturated fats, trans fats, cholesterol, and sodium can contribute to heart disease.\n",
      "\n",
      "9. **Stress**: Chronic stress may contribute to high blood pressure and unhealthy behaviors like overeating or smoking.\n",
      "\n",
      "10. **Family History**: A family history of heart disease increases the risk, as genetics can play a role.\n",
      "\n",
      "11. **Age and Gender**: Men over 45 and women over 55 are at higher risk, though heart attacks can occur at any age.\n",
      "\n",
      "12. **Sleep Apnea**: Untreated sleep apnea can increase the risk of high blood pressure and other heart-related problems.\n",
      "\n",
      "13. **Excessive Alcohol Consumption**: Heavy drinking can raise blood pressure and contribute to heart damage.\n",
      "\n",
      "14. **Illicit Drug Use**: Drugs like cocaine and amphetamines can cause severe spikes in blood pressure and trigger heart attacks.\n",
      "\n",
      "If you have concerns about your heart health or risk factors, it’s important to consult a healthcare provider for personalized advice and preventive measures.\n"
     ]
    },
    {
     "name": "stdin",
     "output_type": "stream",
     "text": [
      "Ask a health question (or type 'quit' to exit):  what causes a sore throat?\n"
     ]
    },
    {
     "name": "stdout",
     "output_type": "stream",
     "text": [
      "Bot: A sore throat can be caused by a variety of factors, including:\n",
      "\n",
      "1. **Viral Infections**: The most common cause of a sore throat is a viral infection, such as the common cold, flu, or mononucleosis. These viruses can inflame the throat and cause discomfort.\n",
      "\n",
      "2. **Bacterial Infections**: Streptococcal bacteria (Group A Streptococcus) can cause strep throat, a more severe bacterial infection that requires medical attention and often antibiotics.\n",
      "\n",
      "3. **Allergies**: Allergic reactions to pollen, dust, pet dander, or other allergens can lead to postnasal drip, which irritates the throat and causes soreness.\n",
      "\n",
      "4. **Dry Air**: Breathing dry indoor air, especially during winter months when heating systems are in use, can dry out the throat and cause irritation.\n",
      "\n",
      "5. **Irritants**: Exposure to smoke, chemicals, or other environmental irritants can inflame the throat.\n",
      "\n",
      "6. **Gastroesophageal Reflux Disease (GERD)**: Acid reflux from the stomach can irritate the throat, causing a sore or burning sensation.\n",
      "\n",
      "7. **Overuse or Strain**: Yelling, singing, or talking for long periods can strain the vocal cords and throat muscles, leading to soreness.\n",
      "\n",
      "8. **Infections in the Throat or Tonsils**: Conditions like tonsillitis or pharyngitis can cause significant throat pain.\n",
      "\n",
      "9. **Injury or Trauma**: Accidental ingestion of sharp objects or injuries to the throat can cause soreness.\n",
      "\n",
      "10. **Tumors or Growths**: Rarely, a sore throat may be a symptom of a more serious condition, such as a tumor in the throat, voice box, or tongue.\n",
      "\n",
      "If you have a persistent or severe sore throat, it’s important to consult a healthcare provider for proper diagnosis and treatment.\n"
     ]
    },
    {
     "name": "stdin",
     "output_type": "stream",
     "text": [
      "Ask a health question (or type 'quit' to exit):  is paracetamol safe for children?\n"
     ]
    },
    {
     "name": "stdout",
     "output_type": "stream",
     "text": [
      "Bot: Paracetamol (also known as acetaminophen) is generally considered safe for children when used appropriately and at the correct dosage. It is commonly used to relieve pain and reduce fever in children. However, it’s important to follow these guidelines:\n",
      "\n",
      "1. **Use the correct dosage**: Dosage is based on the child’s age or weight. Always use the measuring device provided with the medication and follow the instructions on the label or as advised by a healthcare professional.\n",
      "\n",
      "2. **Avoid overuse**: Do not exceed the recommended dose or frequency, as excessive paracetamol can cause serious side effects, including liver damage.\n",
      "\n",
      "3. **Check for allergies or sensitivities**: If your child has a known allergy to paracetamol or any other medication, avoid using it.\n",
      "\n",
      "4. **Consult a healthcare provider**: If your child has underlying health conditions, such as liver or kidney problems, or if you’re unsure about the dosage, consult a doctor or pharmacist.\n",
      "\n",
      "If you’re ever unsure about giving paracetamol to your child, it’s best to consult a healthcare professional for guidance.\n"
     ]
    },
    {
     "name": "stdin",
     "output_type": "stream",
     "text": [
      "Ask a health question (or type 'quit' to exit):  can i eat 1 table of paracetamol to control cancer?\n"
     ]
    },
    {
     "name": "stdout",
     "output_type": "stream",
     "text": [
      "Bot: I’m not qualified to give specific medical treatment or dosage advice. Please consult a licensed doctor or pharmacist for guidance. \n",
      "\n",
      "Paracetamol (acetaminophen) is commonly used for pain relief and reducing fever, but it is not a treatment for cancer. Cancer requires specialized medical care, and treatment plans are tailored to the individual and the type of cancer. If you or someone you know has cancer or suspects they might, it’s crucial to seek advice from a qualified healthcare professional for appropriate diagnosis and treatment options.\n"
     ]
    }
   ],
   "source": [
    "import requests  # Import the requests library to make HTTP requests\n",
    "\n",
    "# Function to send a user question to the Cohere Chat API\n",
    "def ask_healthbot_cohere(user_input):\n",
    "    # The Cohere API endpoint for chat\n",
    "    url = \"https://api.cohere.ai/v1/chat\"\n",
    "\n",
    "    # Required headers for authentication and content type\n",
    "    headers = {\n",
    "        \"Authorization\": f\"Bearer {COHERE_API_KEY}\",  # Your API key (must be defined elsewhere)\n",
    "        \"Content-Type\": \"application/json\"\n",
    "    }\n",
    "\n",
    "    # The data payload for the POST request\n",
    "    data = {\n",
    "        \"model\": \"command-nightly\",  # Specify the Cohere model to use\n",
    "        \"message\": user_input,       # The user's input question\n",
    "        \"chat_history\": [],          # Empty history for a single-turn conversation\n",
    "        \"temperature\": 0.7,          # Controls response randomness (0 = deterministic, 1 = more creative)\n",
    "        \n",
    "        # Preamble sets strict rules for the assistant's behavior\n",
    "        \"preamble\": (\n",
    "            \"You are a friendly and responsible health assistant. \"\n",
    "            \"You ONLY answer general, non-specific health questions. \"\n",
    "            \"You NEVER provide exact medical instructions, dosages, or treatment recommendations. \"\n",
    "            \"If a user asks for medication advice, dosages, or how much to take, you must respond: \"\n",
    "            \"'I’m not qualified to give specific medical treatment or dosage advice. Please consult a licensed doctor or pharmacist for guidance.' \"\n",
    "            \"Your top priority is safety. If you’re unsure, always tell the user to consult a qualified healthcare provider.\"\n",
    "        )\n",
    "    }\n",
    "\n",
    "    # Send the POST request to Cohere's API\n",
    "    response = requests.post(url, headers=headers, json=data)\n",
    "\n",
    "    # If the request was successful, return the assistant's reply\n",
    "    if response.status_code == 200:\n",
    "        result = response.json()\n",
    "        return result[\"text\"].strip()  # Get and clean the response text\n",
    "    else:\n",
    "        # If there was an error, return status and error message\n",
    "        return f\"Error: {response.status_code}\\n{response.text}\"\n",
    "\n",
    "\n",
    "# --- Conversation loop ---\n",
    "# Continuously prompt the user until they type 'quit'\n",
    "while True:\n",
    "    user_question = input(\"Ask a health question (or type 'quit' to exit): \")\n",
    "    \n",
    "    # Exit condition\n",
    "    if user_question.lower() == 'quit':\n",
    "        print(\"Goodbye!\")\n",
    "        break\n",
    "\n",
    "    # Get the assistant's reply by calling the function\n",
    "    reply = ask_healthbot_cohere(user_question)\n",
    "\n",
    "    # Print the assistant's response\n",
    "    print(\"Bot:\", reply)\n"
   ]
  },
  {
   "cell_type": "code",
   "execution_count": null,
   "id": "319ca873-e1b3-4ac6-a23d-ebf89eb00601",
   "metadata": {},
   "outputs": [],
   "source": []
  }
 ],
 "metadata": {
  "kernelspec": {
   "display_name": "Python 3 (ipykernel)",
   "language": "python",
   "name": "python3"
  },
  "language_info": {
   "codemirror_mode": {
    "name": "ipython",
    "version": 3
   },
   "file_extension": ".py",
   "mimetype": "text/x-python",
   "name": "python",
   "nbconvert_exporter": "python",
   "pygments_lexer": "ipython3",
   "version": "3.13.3"
  }
 },
 "nbformat": 4,
 "nbformat_minor": 5
}
